{
 "cells": [
  {
   "cell_type": "code",
   "execution_count": 1,
   "metadata": {
    "collapsed": false,
    "deletable": true,
    "editable": true
   },
   "outputs": [
    {
     "name": "stderr",
     "output_type": "stream",
     "text": [
      "/home/sean/anaconda3/envs/carnd-sean/lib/python3.5/site-packages/matplotlib/font_manager.py:280: UserWarning: Matplotlib is building the font cache using fc-list. This may take a moment.\n",
      "  'Matplotlib is building the font cache using fc-list. '\n"
     ]
    }
   ],
   "source": [
    "import pandas as pd\n",
    "import math\n",
    "import numpy as np\n",
    "import matplotlib.pyplot as plt\n",
    "from ipywidgets import interact, interactive, fixed\n",
    "%matplotlib inline\n",
    "plt.rcParams[\"figure.figsize\"] = [20, 14]"
   ]
  },
  {
   "cell_type": "code",
   "execution_count": 7,
   "metadata": {
    "collapsed": true,
    "deletable": true,
    "editable": true
   },
   "outputs": [],
   "source": [
    "with open ('../data/map_data.txt') as f:\n",
    "    map_df = pd.read_table(f, sep='\\t', header=None, names=['x_f','y_f','id'], lineterminator='\\n')\n",
    "\n",
    "with open ('../data/gt_data.txt') as f:\n",
    "    gt_df = pd.read_table(f, sep=' ', header=None, names=['x','y','theta'], lineterminator='\\n')"
   ]
  },
  {
   "cell_type": "code",
   "execution_count": 8,
   "metadata": {
    "collapsed": true,
    "deletable": true,
    "editable": true
   },
   "outputs": [],
   "source": [
    "def transform_observation(p_x, p_y, p_theta, o_x, o_y):\n",
    "    #(o_y, o_x) = (o_x, o_y)\n",
    "    x = o_x * math.cos(p_theta) - o_y * math.sin(p_theta) + p_x\n",
    "    y = o_x * math.sin(p_theta) + o_y * math.cos(p_theta) + p_y\n",
    "    return (x,y)"
   ]
  },
  {
   "cell_type": "code",
   "execution_count": 9,
   "metadata": {
    "collapsed": false,
    "deletable": true,
    "editable": true
   },
   "outputs": [
    {
     "data": {
      "text/plain": [
       "<matplotlib.figure.Figure at 0x7fb25db1e358>"
      ]
     },
     "metadata": {},
     "output_type": "display_data"
    }
   ],
   "source": [
    "@interact\n",
    "def show_decorated_map(step:(0,2444)=0):\n",
    "    plt.figure()\n",
    "    ax1=map_df.plot(kind='scatter', x='x_f', y='y_f', label='landmarks')\n",
    "    \n",
    "    gt_pos = gt_df.iloc[step]\n",
    "    ax1.plot(gt_pos.x, gt_pos.y, 'ro',  markersize='7', label='ground truth')\n",
    "    \n",
    "    with open ('../output/particles'+str(step)+'.txt') as f:\n",
    "        p_df = pd.read_table(f, sep=' ', header=None, names=['x','y','theta'], lineterminator='\\n')\n",
    "    p_df.plot(kind='scatter', x='x', y='y', color='m', ax= ax1, label='particles')\n",
    "    \n",
    "    if step > 0:\n",
    "        with open ('../data/observation/observations_%06d.txt' % step) as f:\n",
    "            obs_df = pd.read_table(f, sep=' ', header=None, names=['x','y','theta'], lineterminator='\\n')\n",
    "            obs_df['tx'] = transform_observation(gt_pos.x, gt_pos.y, gt_pos.theta, obs_df['x'], obs_df['y'])[0]\n",
    "            obs_df['ty'] = transform_observation(gt_pos.x, gt_pos.y, gt_pos.theta, obs_df['x'], obs_df['y'])[1]\n",
    "            obs_df.plot(kind='scatter', x='tx', y='ty', marker=\"o\", color='C2', ax= ax1, label='observations')\n",
    "\n",
    "    plt.legend(loc='best')\n",
    "    plt.show()"
   ]
  },
  {
   "cell_type": "code",
   "execution_count": null,
   "metadata": {
    "collapsed": true,
    "deletable": true,
    "editable": true
   },
   "outputs": [],
   "source": []
  }
 ],
 "metadata": {
  "kernelspec": {
   "display_name": "Python 3",
   "language": "python",
   "name": "python3"
  },
  "language_info": {
   "codemirror_mode": {
    "name": "ipython",
    "version": 3
   },
   "file_extension": ".py",
   "mimetype": "text/x-python",
   "name": "python",
   "nbconvert_exporter": "python",
   "pygments_lexer": "ipython3",
   "version": "3.5.2"
  },
  "widgets": {
   "state": {
    "18fd69948aee4dc6a38ae36937873806": {
     "views": []
    },
    "1be038be68ab45aba47d68c27aba54af": {
     "views": []
    },
    "2bf0491c7e2a4ccbad98bf8d2f596fc7": {
     "views": []
    },
    "2deaaa68616e4f8da7134eed724a5c66": {
     "views": []
    },
    "3e567dc3724b4ba4b1aece10b463a2ac": {
     "views": []
    },
    "44a2e239429d4d4e8eeac3af95f0a9ae": {
     "views": []
    },
    "48ad9e1fdc3043d9aadf410c19536b45": {
     "views": []
    },
    "6b262ab2240340ce9b465f611f7397d1": {
     "views": [
      {
       "cell_index": 3
      }
     ]
    },
    "7f8f1382985e4dcb956467598ac8e077": {
     "views": []
    },
    "894b6bdfc4f0465eaf41e2cdecb55a8c": {
     "views": []
    },
    "912b45c78f1148e68cc20a3aec941e24": {
     "views": []
    },
    "a93b8d1bbfbb47c2b977c98a20020bd3": {
     "views": []
    },
    "b8224bfa15d943498c222ff88aed32de": {
     "views": []
    },
    "cfa10726d30a4f4c8a4f32ccf484c3e7": {
     "views": []
    },
    "d836bcda143f41b98c687954384e3313": {
     "views": []
    },
    "eaeee8b209e44b739c2a4acd59e40b60": {
     "views": []
    }
   },
   "version": "1.1.2"
  }
 },
 "nbformat": 4,
 "nbformat_minor": 2
}
